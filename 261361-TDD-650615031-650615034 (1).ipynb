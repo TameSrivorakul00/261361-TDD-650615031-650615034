{
  "metadata": {
    "kernelspec": {
      "name": "python",
      "display_name": "Python (Pyodide)",
      "language": "python"
    },
    "language_info": {
      "codemirror_mode": {
        "name": "python",
        "version": 3
      },
      "file_extension": ".py",
      "mimetype": "text/x-python",
      "name": "python",
      "nbconvert_exporter": "python",
      "pygments_lexer": "ipython3",
      "version": "3.8"
    }
  },
  "nbformat_minor": 4,
  "nbformat": 4,
  "cells": [
    {
      "cell_type": "code",
      "source": "def generate_diamond(letter):\n    \"\"\"Generate a diamond pattern with the given letter at its widest point.\"\"\"\n    if letter < 'A' or letter > 'Z':\n        return \"\"\n    \n    size = ord(letter) - ord('A') + 1\n    result = []\n    \n    # Construct the top half of the diamond\n    for i in range(size):\n        line = ' ' * (size - i - 1)\n        if i == 0:\n            line += 'A'\n        else:\n            line += chr(ord('A') + i) + ' ' * (2 * i - 1) + chr(ord('A') + i)\n        result.append(line + ' ' * (size - i - 1))\n    \n    # Construct the bottom half of the diamond\n    for i in range(size - 2, -1, -1):\n        result.append(result[i])\n    \n    return '\\n'.join(result)\n",
      "metadata": {
        "trusted": true
      },
      "outputs": [],
      "execution_count": 32
    },
    {
      "cell_type": "code",
      "source": "# Test the function with different inputs\nprint(\"Diamond for 'A':\")\nprint(generate_diamond('A'))\n\nprint(\"\\nDiamond for 'B':\")\nprint(generate_diamond('B'))\n\nprint(\"\\nDiamond for 'C':\")\nprint(generate_diamond('C'))\n",
      "metadata": {
        "trusted": true
      },
      "outputs": [
        {
          "name": "stdout",
          "text": "Diamond for 'A':\nA\n\nDiamond for 'B':\n A \nB B\n A \n\nDiamond for 'C':\n  A  \n B B \nC   C\n B B \n  A  \n",
          "output_type": "stream"
        }
      ],
      "execution_count": 33
    },
    {
      "cell_type": "code",
      "source": "def generate_diamond(letter):\n    \"\"\"Generate a diamond pattern with the given letter at its widest point.\"\"\"\n    if letter < 'A' or letter > 'Z':\n        return \"\"\n    \n    size = ord(letter) - ord('A') + 1\n    result = []\n    \n    # Construct the top half of the diamond\n    for i in range(size):\n        line = ' ' * (size - i - 1)\n        if i == 0:\n            line += 'A'\n        else:\n            line += chr(ord('A') + i) + ' ' * (2 * i - 1) + chr(ord('A') + i)\n        result.append(line + ' ' * (size - i - 1))\n    \n    # Construct the bottom half of the diamond\n    for i in range(size - 2, -1, -1):\n        result.append(result[i])\n    \n    return '\\n'.join(result)\n\n",
      "metadata": {
        "trusted": true
      },
      "outputs": [],
      "execution_count": 39
    },
    {
      "cell_type": "code",
      "source": "# For 'B', expected result is intentionally incorrect for this test\ntest_result_B = generate_diamond('B') == \" B \\nB B \\n B \"  # This should be False\n# Display the test results directly\ntest_result_B",
      "metadata": {
        "trusted": true
      },
      "outputs": [
        {
          "execution_count": 42,
          "output_type": "execute_result",
          "data": {
            "text/plain": "False"
          },
          "metadata": {}
        }
      ],
      "execution_count": 42
    },
    {
      "cell_type": "code",
      "source": "def generate_diamond(letter):\n    \"\"\"Generate a diamond pattern with the given letter at its widest point.\"\"\"\n    if letter < 'A' or letter > 'Z':\n        return \"\"\n    \n    size = ord(letter) - ord('A') + 1\n    result = []\n    \n    # Construct the top half of the diamond\n    for i in range(size):\n        line = ' ' * (size - i - 1)\n        if i == 0:\n            line += 'A'\n        else:\n            line += chr(ord('A') + i) + ' ' * (2 * i - 1) + chr(ord('A') + i)\n        result.append(line + ' ' * (size - i - 1))\n    \n    # Construct the bottom half of the diamond\n    for i in range(size - 2, -1, -1):\n        result.append(result[i])\n    \n    return '\\n'.join(result)",
      "metadata": {
        "trusted": true
      },
      "outputs": [],
      "execution_count": 43
    },
    {
      "cell_type": "code",
      "source": "# For 'A', expected result should be \"A\"\ntest_result_A = generate_diamond('A') == \"A\"  # This should be True\n# Display the test results directly\ntest_result_A",
      "metadata": {
        "trusted": true
      },
      "outputs": [
        {
          "execution_count": 44,
          "output_type": "execute_result",
          "data": {
            "text/plain": "True"
          },
          "metadata": {}
        }
      ],
      "execution_count": 44
    },
    {
      "cell_type": "code",
      "source": "def generate_diamond(letter):\n    \"\"\"Generate a diamond pattern with the given letter at its widest point.\"\"\"\n    if letter < 'A' or letter > 'Z':\n        return \"\"\n    \n    size = ord(letter) - ord('A') + 1\n    result = []\n    \n    # Construct the top half of the diamond\n    for i in range(size):\n        line = ' ' * (size - i - 1)\n        if i == 0:\n            line += 'A'\n        else:\n            line += chr(ord('A') + i) + ' ' * (2 * i - 1) + chr(ord('A') + i)\n        result.append(line + ' ' * (size - i - 1))\n    \n    # Construct the bottom half of the diamond\n    for i in range(size - 2, -1, -1):\n        result.append(result[i])\n    \n    return '\\n'.join(result)",
      "metadata": {
        "trusted": true
      },
      "outputs": [],
      "execution_count": 45
    },
    {
      "cell_type": "code",
      "source": "# For 'A', expected result should be \"A\"\nexpected_A = \"A\"\ntest_result_A = generate_diamond('A') == expected_A  # This should be True\n\n# For 'B', the correct expected result is:\nexpected_B = \" A \\nB B\\n A \"\ntest_result_B = generate_diamond('B') == expected_B  # This should be True\n\n# For 'C', the correct expected result is:\nexpected_C = \"  A  \\n B B \\nC   C\\n B B \\n  A  \"\ntest_result_C = generate_diamond('C') == expected_C  # This should be True\n\n# Display the test results directly\ntest_result_A, test_result_B, test_result_C",
      "metadata": {
        "trusted": true
      },
      "outputs": [
        {
          "execution_count": 46,
          "output_type": "execute_result",
          "data": {
            "text/plain": "(True, True, True)"
          },
          "metadata": {}
        }
      ],
      "execution_count": 46
    },
    {
      "cell_type": "code",
      "source": "def generate_diamond(letter):\n    \"\"\"Generate a diamond pattern with the given letter at its widest point.\"\"\"\n    if letter < 'A' or letter > 'Z':\n        return \"\"\n    \n    size = ord(letter) - ord('A') + 1\n    result = []\n    \n    # Construct the top half of the diamond\n    for i in range(size):\n        line = ' ' * (size - i - 1)\n        if i == 0:\n            line += 'A'\n        else:\n            line += chr(ord('A') + i) + ' ' * (2 * i - 1) + chr(ord('A') + i)\n        result.append(line + ' ' * (size - i - 1))\n    \n    # Construct the bottom half of the diamond\n    for i in range(size - 2, -1, -1):\n        result.append(result[i])\n    \n    return '\\n'.join(result)\n",
      "metadata": {
        "trusted": true
      },
      "outputs": [],
      "execution_count": 62
    },
    {
      "cell_type": "code",
      "source": "# Define the expected results for the test cases\n\n# For 'A'\nexpected_A = \"A\"\nassert generate_diamond('A') == expected_A, \"Test failed for 'A'\"\n\n# For 'B'\nexpected_B = \" A \\nB B\\n A \"\nassert generate_diamond('B') == expected_B, \"Test failed for 'B'\"\n\n# For 'C'\nexpected_C = \"  A  \\n B C \\nC   C\\n B B \\n  A  \"\nassert generate_diamond('C') == expected_C, \"Test failed for 'C'\"\n\n\nprint(\"All tests passed!\")",
      "metadata": {
        "trusted": true
      },
      "outputs": [
        {
          "ename": "<class 'AssertionError'>",
          "evalue": "Test failed for 'C'",
          "traceback": [
            "\u001b[0;31m---------------------------------------------------------------------------\u001b[0m",
            "\u001b[0;31mAssertionError\u001b[0m                            Traceback (most recent call last)",
            "Cell \u001b[0;32mIn[63], line 13\u001b[0m\n\u001b[1;32m     11\u001b[0m \u001b[38;5;66;03m# For 'C'\u001b[39;00m\n\u001b[1;32m     12\u001b[0m expected_C \u001b[38;5;241m=\u001b[39m \u001b[38;5;124m\"\u001b[39m\u001b[38;5;124m  A  \u001b[39m\u001b[38;5;130;01m\\n\u001b[39;00m\u001b[38;5;124m B C \u001b[39m\u001b[38;5;130;01m\\n\u001b[39;00m\u001b[38;5;124mC   C\u001b[39m\u001b[38;5;130;01m\\n\u001b[39;00m\u001b[38;5;124m B B \u001b[39m\u001b[38;5;130;01m\\n\u001b[39;00m\u001b[38;5;124m  A  \u001b[39m\u001b[38;5;124m\"\u001b[39m\n\u001b[0;32m---> 13\u001b[0m \u001b[38;5;28;01massert\u001b[39;00m generate_diamond(\u001b[38;5;124m'\u001b[39m\u001b[38;5;124mC\u001b[39m\u001b[38;5;124m'\u001b[39m) \u001b[38;5;241m==\u001b[39m expected_C, \u001b[38;5;124m\"\u001b[39m\u001b[38;5;124mTest failed for \u001b[39m\u001b[38;5;124m'\u001b[39m\u001b[38;5;124mC\u001b[39m\u001b[38;5;124m'\u001b[39m\u001b[38;5;124m\"\u001b[39m\n\u001b[1;32m     16\u001b[0m \u001b[38;5;28mprint\u001b[39m(\u001b[38;5;124m\"\u001b[39m\u001b[38;5;124mAll tests passed!\u001b[39m\u001b[38;5;124m\"\u001b[39m)\n",
            "\u001b[0;31mAssertionError\u001b[0m: Test failed for 'C'"
          ],
          "output_type": "error"
        }
      ],
      "execution_count": 63
    },
    {
      "cell_type": "code",
      "source": "def generate_diamond(letter):\n    \"\"\"Generate a diamond pattern with the given letter at its widest point.\"\"\"\n    if letter < 'A' or letter > 'Z':\n        return \"\"\n    \n    size = ord(letter) - ord('A') + 1\n    result = []\n    \n    # Construct the top half of the diamond\n    for i in range(size):\n        line = ' ' * (size - i - 1)\n        if i == 0:\n            line += 'A'\n        else:\n            line += chr(ord('A') + i) + ' ' * (2 * i - 1) + chr(ord('A') + i)\n        result.append(line + ' ' * (size - i - 1))\n    \n    # Construct the bottom half of the diamond\n    for i in range(size - 2, -1, -1):\n        result.append(result[i])\n    \n    return '\\n'.join(result)\n",
      "metadata": {
        "trusted": true
      },
      "outputs": [],
      "execution_count": 53
    },
    {
      "cell_type": "code",
      "source": "# Define the expected results for the test cases\n\n# For 'A'\nexpected_A = \"A\"\nassert generate_diamond('A') == expected_A, \"Test failed for 'A'\"\n\n# For 'B'\nexpected_B = \" A \\nB B\\n A \"\nassert generate_diamond('B') == expected_B, \"Test failed for 'B'\"\n\n# For 'C'\nexpected_C = \"  A  \\n B B \\nC   C\\n B B \\n  A  \"\nassert generate_diamond('C') == expected_C, \"Test failed for 'C'\"\n\n\nprint(\"All tests passed!\")",
      "metadata": {
        "trusted": true
      },
      "outputs": [
        {
          "name": "stdout",
          "text": "All tests passed!\n",
          "output_type": "stream"
        }
      ],
      "execution_count": 61
    },
    {
      "cell_type": "code",
      "source": "",
      "metadata": {
        "trusted": true
      },
      "outputs": [],
      "execution_count": null
    }
  ]
}